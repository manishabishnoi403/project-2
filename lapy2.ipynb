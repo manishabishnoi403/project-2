{
 "cells": [
  {
   "cell_type": "code",
   "execution_count": null,
   "id": "2316e007-c77f-47a0-8819-8f6993e87f37",
   "metadata": {},
   "outputs": [],
   "source": [
    "import streamlit as st\n",
    "import joblib\n",
    "import numpy as np\n",
    "\n",
    "# import the model\n",
    "pipe = joblib.load('model_dump')\n",
    "df = joblib.load('data_dump')\n",
    "\n",
    "st.title(\"Laptop Predictor\")\n",
    "\n",
    "# brand\n",
    "company = st.selectbox('Brand',df['Company'].unique())\n",
    "\n",
    "# type of laptop\n",
    "type = st.selectbox('Type',df['TypeName'].unique())\n",
    "\n",
    "# Ram\n",
    "ram = st.selectbox('RAM(in GB)',[2,4,6,8,12,16,24,32,64])\n",
    "\n",
    "# weight\n",
    "weight = st.number_input('Weight of the Laptop')\n",
    "\n",
    "# Touchscreen\n",
    "touchscreen = st.selectbox('Touchscreen',['No','Yes'])\n",
    "\n",
    "# IPS\n",
    "ips = st.selectbox('IPS',['No','Yes'])\n",
    "\n",
    "# screen size\n",
    "screen_size = st.number_input('Screen Size')\n",
    "\n",
    "# resolution\n",
    "resolution = st.selectbox('Screen Resolution',['1920x1080','1366x768','1600x900','3840x2160','3200x1800','2880x1800','2560x1600','2560x1440','2304x1440'])\n",
    "\n",
    "#cpu\n",
    "cpu = st.selectbox('CPU',df['Cpu brand'].unique())\n",
    "\n",
    "hdd = st.selectbox('HDD(in GB)',[0,128,256,512,1024,2048])\n",
    "\n",
    "ssd = st.selectbox('SSD(in GB)',[0,8,128,256,512,1024])\n",
    "\n",
    "gpu = st.selectbox('GPU',df['Gpu brand'].unique())\n",
    "\n",
    "os = st.selectbox('OS',df['os'].unique())\n",
    "\n",
    "if st.button('Predict Price'):\n",
    "    # query\n",
    "    ppi = None\n",
    "    if touchscreen == 'Yes':\n",
    "        touchscreen = 1\n",
    "    else:\n",
    "        touchscreen = 0\n",
    "\n",
    "    if ips == 'Yes':\n",
    "        ips = 1\n",
    "    else:\n",
    "        ips = 0\n",
    "\n",
    "    X_res = int(resolution.split('x')[0])\n",
    "    Y_res = int(resolution.split('x')[1])\n",
    "    ppi = ((X_res**2) + (Y_res**2))**0.5/screen_size\n",
    "    query = np.array([company,type,ram,weight,touchscreen,ips,ppi,cpu,hdd,ssd,gpu,os])\n",
    "\n",
    "    query = query.reshape(1,12)\n",
    "    st.title(\"The predicted price of this configuration is \" + str(int(np.exp(pipe.predict(query)[0]))))"
   ]
  },
  {
   "cell_type": "code",
   "execution_count": 1,
   "id": "0a597a0a-301f-47d6-af6a-04c2610db60f",
   "metadata": {},
   "outputs": [
    {
     "data": {
      "text/plain": [
       "'1.2.2'"
      ]
     },
     "execution_count": 1,
     "metadata": {},
     "output_type": "execute_result"
    }
   ],
   "source": [
    "import sklearn\n",
    "sklearn.__version__"
   ]
  },
  {
   "cell_type": "code",
   "execution_count": null,
   "id": "fe9a7be0-8c7d-4d48-b42e-30d794edfb55",
   "metadata": {},
   "outputs": [],
   "source": []
  }
 ],
 "metadata": {
  "kernelspec": {
   "display_name": "Python 3 (ipykernel)",
   "language": "python",
   "name": "python3"
  },
  "language_info": {
   "codemirror_mode": {
    "name": "ipython",
    "version": 3
   },
   "file_extension": ".py",
   "mimetype": "text/x-python",
   "name": "python",
   "nbconvert_exporter": "python",
   "pygments_lexer": "ipython3",
   "version": "3.11.7"
  },
  "widgets": {
   "application/vnd.jupyter.widget-state+json": {
    "state": {},
    "version_major": 2,
    "version_minor": 0
   }
  }
 },
 "nbformat": 4,
 "nbformat_minor": 5
}
